{
 "cells": [
  {
   "cell_type": "code",
   "execution_count": 1,
   "id": "e5284ab1-6730-473b-a86d-727bb85e726f",
   "metadata": {},
   "outputs": [],
   "source": [
    "#Imports\n",
    "import pandas as pd\n",
    "import os\n",
    "import glob\n",
    "import plotly.graph_objects as go\n",
    "import plotly.express as px\n",
    "import plotly.io as pio\n",
    "pio.templates.default = \"plotly_white\"\n"
   ]
  },
  {
   "cell_type": "markdown",
   "id": "e84da2c1-a162-4224-8505-cf0a06393696",
   "metadata": {},
   "source": [
    "\n",
    "\n",
    "First, we will analyze all of the data in the Disruptions folder. This will be done in the codeblock below\n",
    "\n"
   ]
  },
  {
   "cell_type": "code",
   "execution_count": 2,
   "id": "66cc13e7-99ed-4214-88d2-3b2bf593d633",
   "metadata": {},
   "outputs": [
    {
     "name": "stdout",
     "output_type": "stream",
     "text": [
      "Successfully loaded and combined 14 files with a total of 55,864 disruptions.\n",
      "\n",
      "--- Processed Disruptions Data Info ---\n",
      "<class 'pandas.core.frame.DataFrame'>\n",
      "RangeIndex: 55864 entries, 0 to 55863\n",
      "Data columns (total 20 columns):\n",
      " #   Column                Non-Null Count  Dtype         \n",
      "---  ------                --------------  -----         \n",
      " 0   rdt_id                55864 non-null  int64         \n",
      " 1   ns_lines              55864 non-null  object        \n",
      " 2   rdt_lines             54690 non-null  object        \n",
      " 3   rdt_lines_id          54690 non-null  object        \n",
      " 4   rdt_station_names     41162 non-null  object        \n",
      " 5   rdt_station_codes     41162 non-null  object        \n",
      " 6   cause_nl              55679 non-null  object        \n",
      " 7   cause_en              55679 non-null  object        \n",
      " 8   statistical_cause_nl  55679 non-null  object        \n",
      " 9   statistical_cause_en  55679 non-null  object        \n",
      " 10  cause_group           55862 non-null  object        \n",
      " 11  start_time            55864 non-null  datetime64[ns]\n",
      " 12  end_time              55756 non-null  datetime64[ns]\n",
      " 13  duration_minutes      55755 non-null  float64       \n",
      " 14  start_hour            55864 non-null  int32         \n",
      " 15  day_of_week           55864 non-null  object        \n",
      " 16  month                 55864 non-null  int32         \n",
      " 17  year                  55864 non-null  int32         \n",
      " 18  is_peak               55864 non-null  bool          \n",
      " 19  affects_major_hub     55864 non-null  bool          \n",
      "dtypes: bool(2), datetime64[ns](2), float64(1), int32(3), int64(1), object(11)\n",
      "memory usage: 7.1+ MB\n",
      "\n",
      "--- Sample of Processed Data ---\n",
      "           start_time  start_hour  is_peak  affects_major_hub  \\\n",
      "0 2011-01-03 23:22:50          23    False              False   \n",
      "1 2011-01-04 00:23:13           0    False              False   \n",
      "2 2011-01-04 06:30:02           6     True              False   \n",
      "3 2011-01-04 07:30:03           7     True              False   \n",
      "4 2011-01-04 07:30:03           7     True               True   \n",
      "\n",
      "                cause_en  duration_minutes  \n",
      "0          police action             132.0  \n",
      "1          police action              72.0  \n",
      "2           copper theft             215.0  \n",
      "3  person hit by a train             210.0  \n",
      "4      broken down train              80.0  \n",
      "\n",
      "--- Disruptions by Peak vs. Off-Peak ---\n",
      "is_peak\n",
      "False    0.714986\n",
      "True     0.285014\n",
      "Name: proportion, dtype: float64\n",
      "\n",
      "--- Average Duration (minutes) by Cause and Peak Hour ---\n",
      "is_peak           False  True \n",
      "cause_group                   \n",
      "accidents         127.0  140.0\n",
      "engineering work  112.0  130.0\n",
      "external           34.0   35.0\n",
      "infrastructure    103.0  108.0\n",
      "logistical        124.0  110.0\n",
      "rolling stock      28.0   31.0\n",
      "staff             554.0  456.0\n",
      "unknown            65.0   65.0\n",
      "weather           208.0  151.0\n"
     ]
    },
    {
     "data": {
      "application/vnd.plotly.v1+json": {
       "config": {
        "plotlyServerURL": "https://plot.ly"
       },
       "data": [
        {
         "marker": {
          "color": "rgb(59, 130, 246)"
         },
         "name": "Off-Peak Hours",
         "orientation": "h",
         "text": {
          "bdata": "AAAAAAAAPEAAAAAAAABBQAAAAAAAQFBAAAAAAADAWUAAAAAAAABfQAAAAAAAAFxAAAAAAADAX0AAAAAAAABqQAAAAAAAUIFA",
          "dtype": "f8"
         },
         "textfont": {
          "color": "white",
          "size": 12
         },
         "textposition": "inside",
         "type": "bar",
         "x": {
          "bdata": "AAAAAAAAPEAAAAAAAABBQAAAAAAAQFBAAAAAAADAWUAAAAAAAABfQAAAAAAAAFxAAAAAAADAX0AAAAAAAABqQAAAAAAAUIFA",
          "dtype": "f8"
         },
         "y": [
          "rolling stock",
          "external",
          "unknown",
          "infrastructure",
          "logistical",
          "engineering work",
          "accidents",
          "weather",
          "staff"
         ]
        },
        {
         "marker": {
          "color": "rgb(239, 68, 68)"
         },
         "name": "Peak Hours",
         "orientation": "h",
         "text": {
          "bdata": "AAAAAAAAP0AAAAAAAIBBQAAAAAAAQFBAAAAAAAAAW0AAAAAAAIBbQAAAAAAAQGBAAAAAAACAYUAAAAAAAOBiQAAAAAAAgHxA",
          "dtype": "f8"
         },
         "textfont": {
          "color": "white",
          "size": 12
         },
         "textposition": "inside",
         "type": "bar",
         "x": {
          "bdata": "AAAAAAAAP0AAAAAAAIBBQAAAAAAAQFBAAAAAAAAAW0AAAAAAAIBbQAAAAAAAQGBAAAAAAACAYUAAAAAAAOBiQAAAAAAAgHxA",
          "dtype": "f8"
         },
         "y": [
          "rolling stock",
          "external",
          "unknown",
          "infrastructure",
          "logistical",
          "engineering work",
          "accidents",
          "weather",
          "staff"
         ]
        }
       ],
       "layout": {
        "barmode": "group",
        "font": {
         "family": "Arial"
        },
        "height": 600,
        "legend": {
         "orientation": "h",
         "title": {
          "text": "Time Period"
         },
         "x": 1,
         "xanchor": "right",
         "y": 1.02,
         "yanchor": "bottom"
        },
        "template": {
         "data": {
          "bar": [
           {
            "error_x": {
             "color": "#2a3f5f"
            },
            "error_y": {
             "color": "#2a3f5f"
            },
            "marker": {
             "line": {
              "color": "white",
              "width": 0.5
             },
             "pattern": {
              "fillmode": "overlay",
              "size": 10,
              "solidity": 0.2
             }
            },
            "type": "bar"
           }
          ],
          "barpolar": [
           {
            "marker": {
             "line": {
              "color": "white",
              "width": 0.5
             },
             "pattern": {
              "fillmode": "overlay",
              "size": 10,
              "solidity": 0.2
             }
            },
            "type": "barpolar"
           }
          ],
          "carpet": [
           {
            "aaxis": {
             "endlinecolor": "#2a3f5f",
             "gridcolor": "#C8D4E3",
             "linecolor": "#C8D4E3",
             "minorgridcolor": "#C8D4E3",
             "startlinecolor": "#2a3f5f"
            },
            "baxis": {
             "endlinecolor": "#2a3f5f",
             "gridcolor": "#C8D4E3",
             "linecolor": "#C8D4E3",
             "minorgridcolor": "#C8D4E3",
             "startlinecolor": "#2a3f5f"
            },
            "type": "carpet"
           }
          ],
          "choropleth": [
           {
            "colorbar": {
             "outlinewidth": 0,
             "ticks": ""
            },
            "type": "choropleth"
           }
          ],
          "contour": [
           {
            "colorbar": {
             "outlinewidth": 0,
             "ticks": ""
            },
            "colorscale": [
             [
              0,
              "#0d0887"
             ],
             [
              0.1111111111111111,
              "#46039f"
             ],
             [
              0.2222222222222222,
              "#7201a8"
             ],
             [
              0.3333333333333333,
              "#9c179e"
             ],
             [
              0.4444444444444444,
              "#bd3786"
             ],
             [
              0.5555555555555556,
              "#d8576b"
             ],
             [
              0.6666666666666666,
              "#ed7953"
             ],
             [
              0.7777777777777778,
              "#fb9f3a"
             ],
             [
              0.8888888888888888,
              "#fdca26"
             ],
             [
              1,
              "#f0f921"
             ]
            ],
            "type": "contour"
           }
          ],
          "contourcarpet": [
           {
            "colorbar": {
             "outlinewidth": 0,
             "ticks": ""
            },
            "type": "contourcarpet"
           }
          ],
          "heatmap": [
           {
            "colorbar": {
             "outlinewidth": 0,
             "ticks": ""
            },
            "colorscale": [
             [
              0,
              "#0d0887"
             ],
             [
              0.1111111111111111,
              "#46039f"
             ],
             [
              0.2222222222222222,
              "#7201a8"
             ],
             [
              0.3333333333333333,
              "#9c179e"
             ],
             [
              0.4444444444444444,
              "#bd3786"
             ],
             [
              0.5555555555555556,
              "#d8576b"
             ],
             [
              0.6666666666666666,
              "#ed7953"
             ],
             [
              0.7777777777777778,
              "#fb9f3a"
             ],
             [
              0.8888888888888888,
              "#fdca26"
             ],
             [
              1,
              "#f0f921"
             ]
            ],
            "type": "heatmap"
           }
          ],
          "histogram": [
           {
            "marker": {
             "pattern": {
              "fillmode": "overlay",
              "size": 10,
              "solidity": 0.2
             }
            },
            "type": "histogram"
           }
          ],
          "histogram2d": [
           {
            "colorbar": {
             "outlinewidth": 0,
             "ticks": ""
            },
            "colorscale": [
             [
              0,
              "#0d0887"
             ],
             [
              0.1111111111111111,
              "#46039f"
             ],
             [
              0.2222222222222222,
              "#7201a8"
             ],
             [
              0.3333333333333333,
              "#9c179e"
             ],
             [
              0.4444444444444444,
              "#bd3786"
             ],
             [
              0.5555555555555556,
              "#d8576b"
             ],
             [
              0.6666666666666666,
              "#ed7953"
             ],
             [
              0.7777777777777778,
              "#fb9f3a"
             ],
             [
              0.8888888888888888,
              "#fdca26"
             ],
             [
              1,
              "#f0f921"
             ]
            ],
            "type": "histogram2d"
           }
          ],
          "histogram2dcontour": [
           {
            "colorbar": {
             "outlinewidth": 0,
             "ticks": ""
            },
            "colorscale": [
             [
              0,
              "#0d0887"
             ],
             [
              0.1111111111111111,
              "#46039f"
             ],
             [
              0.2222222222222222,
              "#7201a8"
             ],
             [
              0.3333333333333333,
              "#9c179e"
             ],
             [
              0.4444444444444444,
              "#bd3786"
             ],
             [
              0.5555555555555556,
              "#d8576b"
             ],
             [
              0.6666666666666666,
              "#ed7953"
             ],
             [
              0.7777777777777778,
              "#fb9f3a"
             ],
             [
              0.8888888888888888,
              "#fdca26"
             ],
             [
              1,
              "#f0f921"
             ]
            ],
            "type": "histogram2dcontour"
           }
          ],
          "mesh3d": [
           {
            "colorbar": {
             "outlinewidth": 0,
             "ticks": ""
            },
            "type": "mesh3d"
           }
          ],
          "parcoords": [
           {
            "line": {
             "colorbar": {
              "outlinewidth": 0,
              "ticks": ""
             }
            },
            "type": "parcoords"
           }
          ],
          "pie": [
           {
            "automargin": true,
            "type": "pie"
           }
          ],
          "scatter": [
           {
            "fillpattern": {
             "fillmode": "overlay",
             "size": 10,
             "solidity": 0.2
            },
            "type": "scatter"
           }
          ],
          "scatter3d": [
           {
            "line": {
             "colorbar": {
              "outlinewidth": 0,
              "ticks": ""
             }
            },
            "marker": {
             "colorbar": {
              "outlinewidth": 0,
              "ticks": ""
             }
            },
            "type": "scatter3d"
           }
          ],
          "scattercarpet": [
           {
            "marker": {
             "colorbar": {
              "outlinewidth": 0,
              "ticks": ""
             }
            },
            "type": "scattercarpet"
           }
          ],
          "scattergeo": [
           {
            "marker": {
             "colorbar": {
              "outlinewidth": 0,
              "ticks": ""
             }
            },
            "type": "scattergeo"
           }
          ],
          "scattergl": [
           {
            "marker": {
             "colorbar": {
              "outlinewidth": 0,
              "ticks": ""
             }
            },
            "type": "scattergl"
           }
          ],
          "scattermap": [
           {
            "marker": {
             "colorbar": {
              "outlinewidth": 0,
              "ticks": ""
             }
            },
            "type": "scattermap"
           }
          ],
          "scattermapbox": [
           {
            "marker": {
             "colorbar": {
              "outlinewidth": 0,
              "ticks": ""
             }
            },
            "type": "scattermapbox"
           }
          ],
          "scatterpolar": [
           {
            "marker": {
             "colorbar": {
              "outlinewidth": 0,
              "ticks": ""
             }
            },
            "type": "scatterpolar"
           }
          ],
          "scatterpolargl": [
           {
            "marker": {
             "colorbar": {
              "outlinewidth": 0,
              "ticks": ""
             }
            },
            "type": "scatterpolargl"
           }
          ],
          "scatterternary": [
           {
            "marker": {
             "colorbar": {
              "outlinewidth": 0,
              "ticks": ""
             }
            },
            "type": "scatterternary"
           }
          ],
          "surface": [
           {
            "colorbar": {
             "outlinewidth": 0,
             "ticks": ""
            },
            "colorscale": [
             [
              0,
              "#0d0887"
             ],
             [
              0.1111111111111111,
              "#46039f"
             ],
             [
              0.2222222222222222,
              "#7201a8"
             ],
             [
              0.3333333333333333,
              "#9c179e"
             ],
             [
              0.4444444444444444,
              "#bd3786"
             ],
             [
              0.5555555555555556,
              "#d8576b"
             ],
             [
              0.6666666666666666,
              "#ed7953"
             ],
             [
              0.7777777777777778,
              "#fb9f3a"
             ],
             [
              0.8888888888888888,
              "#fdca26"
             ],
             [
              1,
              "#f0f921"
             ]
            ],
            "type": "surface"
           }
          ],
          "table": [
           {
            "cells": {
             "fill": {
              "color": "#EBF0F8"
             },
             "line": {
              "color": "white"
             }
            },
            "header": {
             "fill": {
              "color": "#C8D4E3"
             },
             "line": {
              "color": "white"
             }
            },
            "type": "table"
           }
          ]
         },
         "layout": {
          "annotationdefaults": {
           "arrowcolor": "#2a3f5f",
           "arrowhead": 0,
           "arrowwidth": 1
          },
          "autotypenumbers": "strict",
          "coloraxis": {
           "colorbar": {
            "outlinewidth": 0,
            "ticks": ""
           }
          },
          "colorscale": {
           "diverging": [
            [
             0,
             "#8e0152"
            ],
            [
             0.1,
             "#c51b7d"
            ],
            [
             0.2,
             "#de77ae"
            ],
            [
             0.3,
             "#f1b6da"
            ],
            [
             0.4,
             "#fde0ef"
            ],
            [
             0.5,
             "#f7f7f7"
            ],
            [
             0.6,
             "#e6f5d0"
            ],
            [
             0.7,
             "#b8e186"
            ],
            [
             0.8,
             "#7fbc41"
            ],
            [
             0.9,
             "#4d9221"
            ],
            [
             1,
             "#276419"
            ]
           ],
           "sequential": [
            [
             0,
             "#0d0887"
            ],
            [
             0.1111111111111111,
             "#46039f"
            ],
            [
             0.2222222222222222,
             "#7201a8"
            ],
            [
             0.3333333333333333,
             "#9c179e"
            ],
            [
             0.4444444444444444,
             "#bd3786"
            ],
            [
             0.5555555555555556,
             "#d8576b"
            ],
            [
             0.6666666666666666,
             "#ed7953"
            ],
            [
             0.7777777777777778,
             "#fb9f3a"
            ],
            [
             0.8888888888888888,
             "#fdca26"
            ],
            [
             1,
             "#f0f921"
            ]
           ],
           "sequentialminus": [
            [
             0,
             "#0d0887"
            ],
            [
             0.1111111111111111,
             "#46039f"
            ],
            [
             0.2222222222222222,
             "#7201a8"
            ],
            [
             0.3333333333333333,
             "#9c179e"
            ],
            [
             0.4444444444444444,
             "#bd3786"
            ],
            [
             0.5555555555555556,
             "#d8576b"
            ],
            [
             0.6666666666666666,
             "#ed7953"
            ],
            [
             0.7777777777777778,
             "#fb9f3a"
            ],
            [
             0.8888888888888888,
             "#fdca26"
            ],
            [
             1,
             "#f0f921"
            ]
           ]
          },
          "colorway": [
           "#636efa",
           "#EF553B",
           "#00cc96",
           "#ab63fa",
           "#FFA15A",
           "#19d3f3",
           "#FF6692",
           "#B6E880",
           "#FF97FF",
           "#FECB52"
          ],
          "font": {
           "color": "#2a3f5f"
          },
          "geo": {
           "bgcolor": "white",
           "lakecolor": "white",
           "landcolor": "white",
           "showlakes": true,
           "showland": true,
           "subunitcolor": "#C8D4E3"
          },
          "hoverlabel": {
           "align": "left"
          },
          "hovermode": "closest",
          "mapbox": {
           "style": "light"
          },
          "paper_bgcolor": "white",
          "plot_bgcolor": "white",
          "polar": {
           "angularaxis": {
            "gridcolor": "#EBF0F8",
            "linecolor": "#EBF0F8",
            "ticks": ""
           },
           "bgcolor": "white",
           "radialaxis": {
            "gridcolor": "#EBF0F8",
            "linecolor": "#EBF0F8",
            "ticks": ""
           }
          },
          "scene": {
           "xaxis": {
            "backgroundcolor": "white",
            "gridcolor": "#DFE8F3",
            "gridwidth": 2,
            "linecolor": "#EBF0F8",
            "showbackground": true,
            "ticks": "",
            "zerolinecolor": "#EBF0F8"
           },
           "yaxis": {
            "backgroundcolor": "white",
            "gridcolor": "#DFE8F3",
            "gridwidth": 2,
            "linecolor": "#EBF0F8",
            "showbackground": true,
            "ticks": "",
            "zerolinecolor": "#EBF0F8"
           },
           "zaxis": {
            "backgroundcolor": "white",
            "gridcolor": "#DFE8F3",
            "gridwidth": 2,
            "linecolor": "#EBF0F8",
            "showbackground": true,
            "ticks": "",
            "zerolinecolor": "#EBF0F8"
           }
          },
          "shapedefaults": {
           "line": {
            "color": "#2a3f5f"
           }
          },
          "ternary": {
           "aaxis": {
            "gridcolor": "#DFE8F3",
            "linecolor": "#A2B1C6",
            "ticks": ""
           },
           "baxis": {
            "gridcolor": "#DFE8F3",
            "linecolor": "#A2B1C6",
            "ticks": ""
           },
           "bgcolor": "white",
           "caxis": {
            "gridcolor": "#DFE8F3",
            "linecolor": "#A2B1C6",
            "ticks": ""
           }
          },
          "title": {
           "x": 0.05
          },
          "xaxis": {
           "automargin": true,
           "gridcolor": "#EBF0F8",
           "linecolor": "#EBF0F8",
           "ticks": "",
           "title": {
            "standoff": 15
           },
           "zerolinecolor": "#EBF0F8",
           "zerolinewidth": 2
          },
          "yaxis": {
           "automargin": true,
           "gridcolor": "#EBF0F8",
           "linecolor": "#EBF0F8",
           "ticks": "",
           "title": {
            "standoff": 15
           },
           "zerolinecolor": "#EBF0F8",
           "zerolinewidth": 2
          }
         }
        },
        "title": {
         "text": "<b>Average Disruption Duration by Cause</b><br>Peak vs. Off-Peak Hours",
         "x": 0.5,
         "xanchor": "center",
         "y": 0.95,
         "yanchor": "top"
        },
        "xaxis": {
         "title": {
          "text": "Average Duration (Minutes)"
         }
        },
        "yaxis": {
         "title": {}
        }
       }
      },
      "image/png": "[encoded data removed]"
     },
     "metadata": {},
     "output_type": "display_data"
    }
   ],
   "source": [
    "def process_disruptions_data(folder_path):\n",
    "    \"\"\"\n",
    "    Loads, combines, and processes all disruption CSV files from a given folder.\n",
    "\n",
    "    Args:\n",
    "        folder_path (str): The path to the folder containing the disruption CSVs.\n",
    "\n",
    "    Returns:\n",
    "        pandas.DataFrame: A combined and processed DataFrame of all disruptions.\n",
    "    \"\"\"\n",
    "    csv_files = glob.glob(os.path.join(folder_path, \"disruptions-*.csv\"))\n",
    "    \n",
    "    if not csv_files:\n",
    "        print(f\"No CSV files found in '{folder_path}'. Please check the path.\")\n",
    "        return None\n",
    "\n",
    "    df_list = [pd.read_csv(file) for file in csv_files]\n",
    "\n",
    "    disruptions_df = pd.concat(df_list, ignore_index=True)\n",
    "    print(f\"Successfully loaded and combined {len(csv_files)} files with a total of {len(disruptions_df):,} disruptions.\")\n",
    "\n",
    "    \n",
    "    disruptions_df['start_time'] = pd.to_datetime(disruptions_df['start_time'])\n",
    "    disruptions_df['end_time'] = pd.to_datetime(disruptions_df['end_time'])\n",
    "\n",
    "    disruptions_df['start_hour'] = disruptions_df['start_time'].dt.hour\n",
    "    disruptions_df['day_of_week'] = disruptions_df['start_time'].dt.day_name()\n",
    "    disruptions_df['month'] = disruptions_df['start_time'].dt.month\n",
    "    disruptions_df['year'] = disruptions_df['start_time'].dt.year\n",
    "\n",
    "    is_weekday = disruptions_df['start_time'].dt.weekday < 5  # Monday=0, Sunday=6\n",
    "    is_morning_peak = (disruptions_df['start_hour'] >= 6) & (disruptions_df['start_hour'] < 9)\n",
    "    is_evening_peak = (disruptions_df['start_hour'] >= 16) & (disruptions_df['start_hour'] < 19) # Note: 18:30 falls within hour 18\n",
    "\n",
    "    disruptions_df['is_peak'] = (is_weekday & (is_morning_peak | is_evening_peak))\n",
    "\n",
    "    major_hubs = ['Amsterdam', 'Utrecht', 'Rotterdam', 'Den Haag']\n",
    "    hub_pattern = '|'.join(major_hubs)\n",
    "    disruptions_df['affects_major_hub'] = (\n",
    "        disruptions_df['ns_lines'].str.contains(hub_pattern, case=False, na=False) |\n",
    "        disruptions_df['rdt_station_names'].str.contains(hub_pattern, case=False, na=False)\n",
    "    )\n",
    "\n",
    "    return disruptions_df\n",
    "disruptions_folder = 'TIL Programming\\Disruptions' \n",
    "disruptions_data = process_disruptions_data(disruptions_folder)\n",
    "\n",
    "if disruptions_data is not None:\n",
    "    print(\"\\n--- Processed Disruptions Data Info ---\")\n",
    "    disruptions_data.info()\n",
    "    \n",
    "    print(\"\\n--- Sample of Processed Data ---\")\n",
    "    print(disruptions_data[['start_time', 'start_hour', 'is_peak', 'affects_major_hub', 'cause_en', 'duration_minutes']].head())\n",
    "    \n",
    "    print(\"\\n--- Disruptions by Peak vs. Off-Peak ---\")\n",
    "    print(disruptions_data['is_peak'].value_counts(normalize=True))\n",
    "    \n",
    "    print(\"\\n--- Average Duration (minutes) by Cause and Peak Hour ---\")\n",
    "    avg_duration = disruptions_data.groupby(['cause_group', 'is_peak'])['duration_minutes'].median().unstack().fillna(0)\n",
    "    print(avg_duration)\n",
    "\n",
    "    avg_duration.rename(columns={True: 'Peak Hours', False: 'Off-Peak Hours'}, inplace=True)\n",
    "    \n",
    "    avg_duration.sort_values(by='Peak Hours', ascending=True, inplace=True)\n",
    "\n",
    "    fig = go.Figure()\n",
    "    fig.add_trace(go.Bar(\n",
    "        y=avg_duration.index,\n",
    "        x=avg_duration['Off-Peak Hours'],\n",
    "        name='Off-Peak Hours',\n",
    "        orientation='h',\n",
    "        marker_color='rgb(59, 130, 246)', # Blue\n",
    "        text=avg_duration['Off-Peak Hours'].round(1),\n",
    "        textposition='inside'\n",
    "    ))\n",
    "    fig.add_trace(go.Bar(\n",
    "        y=avg_duration.index,\n",
    "        x=avg_duration['Peak Hours'],\n",
    "        name='Peak Hours',\n",
    "        orientation='h',\n",
    "        marker_color='rgb(239, 68, 68)', # Red\n",
    "        text=avg_duration['Peak Hours'].round(1),\n",
    "        textposition='inside'\n",
    "    ))\n",
    "    fig.update_layout(\n",
    "        barmode='group', # Group bars side-by-side\n",
    "        title={\n",
    "            'text': '<b>Average Disruption Duration by Cause</b><br>Peak vs. Off-Peak Hours',\n",
    "            'y':0.95,\n",
    "            'x':0.5,\n",
    "            'xanchor': 'center',\n",
    "            'yanchor': 'top'\n",
    "        },\n",
    "        xaxis_title='Average Duration (Minutes)',\n",
    "        yaxis_title=None, # Y-axis title is redundant here\n",
    "        font_family=\"Arial\",\n",
    "        legend_title_text='Time Period',\n",
    "        legend=dict(orientation=\"h\", yanchor=\"bottom\", y=1.02, xanchor=\"right\", x=1),\n",
    "        height=600 # Increase height to give labels more space\n",
    "    )\n",
    "    \n",
    "    fig.update_traces(textfont_size=12, textfont_color='white')\n",
    "\n",
    "    fig.show()"
   ]
  },
  {
   "cell_type": "markdown",
   "id": "84e8ff71-02a4-4586-8883-b030c3a4036b",
   "metadata": {},
   "source": [
    "\n",
    "\n",
    "Next, we will analyze the daily checkins. \n",
    "\n"
   ]
  },
  {
   "cell_type": "code",
   "execution_count": 3,
   "id": "65045bb4-30e8-4f32-8b10-e00573b6d61e",
   "metadata": {},
   "outputs": [
    {
     "name": "stdout",
     "output_type": "stream",
     "text": [
      "Successfully loaded check-in data with 26,301 rows.\n",
      "\n",
      "--- Processed Check-in Data Info ---\n",
      "<class 'pandas.core.frame.DataFrame'>\n",
      "DatetimeIndex: 26301 entries, 2020-01-01 00:00:00 to 2022-12-31 23:00:00\n",
      "Data columns (total 9 columns):\n",
      " #   Column                  Non-Null Count  Dtype  \n",
      "---  ------                  --------------  -----  \n",
      " 0   year                    26301 non-null  int64  \n",
      " 1   month                   26301 non-null  int64  \n",
      " 2   day                     26301 non-null  int64  \n",
      " 3   hour                    26301 non-null  int64  \n",
      " 4   check_ins               26301 non-null  float64\n",
      " 5   ref_pre_covid           26301 non-null  float64\n",
      " 6   ref_previous_year       26301 non-null  float64\n",
      " 7   delta_vs_precovid       26301 non-null  float64\n",
      " 8   delta_vs_previous_year  26301 non-null  float64\n",
      "dtypes: float64(5), int64(4)\n",
      "memory usage: 2.0 MB\n",
      "\n",
      "--- Sample of Processed Check-in Data ---\n",
      "                     year  month  day  hour  check_ins  ref_pre_covid  \\\n",
      "datetime                                                                \n",
      "2020-01-01 00:00:00  2020      1    1     0     0.0031         0.0115   \n",
      "2020-01-01 01:00:00  2020      1    1     1     0.0066         0.0013   \n",
      "2020-01-01 02:00:00  2020      1    1     2     0.0077         0.0006   \n",
      "2020-01-01 03:00:00  2020      1    1     3     0.0067         0.0007   \n",
      "2020-01-01 04:00:00  2020      1    1     4     0.0066         0.0020   \n",
      "\n",
      "                     ref_previous_year  delta_vs_precovid  \\\n",
      "datetime                                                    \n",
      "2020-01-01 00:00:00             0.0115              -0.73   \n",
      "2020-01-01 01:00:00             0.0013               4.00   \n",
      "2020-01-01 02:00:00             0.0006              12.75   \n",
      "2020-01-01 03:00:00             0.0007               8.03   \n",
      "2020-01-01 04:00:00             0.0020               2.27   \n",
      "\n",
      "                     delta_vs_previous_year  \n",
      "datetime                                     \n",
      "2020-01-01 00:00:00                   -0.73  \n",
      "2020-01-01 01:00:00                    4.00  \n",
      "2020-01-01 02:00:00                   12.75  \n",
      "2020-01-01 03:00:00                    8.03  \n",
      "2020-01-01 04:00:00                    2.27  \n",
      "\n",
      "--- Average Check-ins per Hour of the Day ---\n",
      "hour\n",
      "0     0.013369\n",
      "1     0.001958\n",
      "2     0.000832\n",
      "3     0.000771\n",
      "4     0.001458\n",
      "5     0.010397\n",
      "6     0.050062\n",
      "7     0.140528\n",
      "8     0.170077\n",
      "9     0.115775\n",
      "10    0.104515\n",
      "11    0.117180\n",
      "12    0.142154\n",
      "13    0.145827\n",
      "14    0.158610\n",
      "15    0.175009\n",
      "16    0.186139\n",
      "17    0.186678\n",
      "18    0.123082\n",
      "19    0.078710\n",
      "20    0.062484\n",
      "21    0.053015\n",
      "22    0.046086\n",
      "23    0.033185\n",
      "Name: check_ins, dtype: float64\n"
     ]
    },
    {
     "data": {
      "application/vnd.plotly.v1+json": {
       "config": {
        "plotlyServerURL": "https://plot.ly"
       },
       "data": [
        {
         "hovertemplate": "hour=%{x}<br>Average Number of Check-ins (in millions)=%{y}<br>color=%{marker.color}<extra></extra>",
         "legendgroup": "",
         "marker": {
          "color": {
           "bdata": "WkLQXxlhiz/AudDjqgpgP8KJIaVvQEs/xTd7W8pFST+CnijeLuRXP4Vhj0PTSoU/rJt8QrKhqT/JFVp11fzBPzajUkgSxcU/x1zRpmyjvT9EQBGmf8G6P6pBnVp8/70/l3i51Rsywj8yeF2peKrCP4yn2KdUTcQ/GjJaaLFmxj/1AnuIZ9PHP3tmM5gN5cc/QW3SIkmCvz/9YzyhTya0P0fLcSvl/a8/WM6oS9Ykqz9ahLTWk5inP3Fkrd2X/aA/",
           "dtype": "f8"
          },
          "coloraxis": "coloraxis",
          "line": {
           "color": "rgb(8,48,107)",
           "width": 1.5
          },
          "pattern": {
           "shape": ""
          }
         },
         "name": "",
         "opacity": 0.8,
         "orientation": "v",
         "showlegend": false,
         "textposition": "auto",
         "texttemplate": "%{y:.2f}",
         "type": "bar",
         "x": {
          "bdata": "AAECAwQFBgcICQoLDA0ODxAREhMUFRYX",
          "dtype": "i1"
         },
         "xaxis": "x",
         "y": {
          "bdata": "WkLQXxlhiz/AudDjqgpgP8KJIaVvQEs/xTd7W8pFST+CnijeLuRXP4Vhj0PTSoU/rJt8QrKhqT/JFVp11fzBPzajUkgSxcU/x1zRpmyjvT9EQBGmf8G6P6pBnVp8/70/l3i51Rsywj8yeF2peKrCP4yn2KdUTcQ/GjJaaLFmxj/1AnuIZ9PHP3tmM5gN5cc/QW3SIkmCvz/9YzyhTya0P0fLcSvl/a8/WM6oS9Ykqz9ahLTWk5inP3Fkrd2X/aA/",
          "dtype": "f8"
         },
         "yaxis": "y"
        }
       ],
       "layout": {
        "barmode": "relative",
        "coloraxis": {
         "colorbar": {
          "title": {
           "text": "color"
          }
         },
         "colorscale": [
          [
           0,
           "rgb(247,251,255)"
          ],
          [
           0.125,
           "rgb(222,235,247)"
          ],
          [
           0.25,
           "rgb(198,219,239)"
          ],
          [
           0.375,
           "rgb(158,202,225)"
          ],
          [
           0.5,
           "rgb(107,174,214)"
          ],
          [
           0.625,
           "rgb(66,146,198)"
          ],
          [
           0.75,
           "rgb(33,113,181)"
          ],
          [
           0.875,
           "rgb(8,81,156)"
          ],
          [
           1,
           "rgb(8,48,107)"
          ]
         ],
         "showscale": false
        },
        "font": {
         "family": "Arial"
        },
        "legend": {
         "tracegroupgap": 0
        },
        "template": {
         "data": {
          "bar": [
           {
            "error_x": {
             "color": "#2a3f5f"
            },
            "error_y": {
             "color": "#2a3f5f"
            },
            "marker": {
             "line": {
              "color": "white",
              "width": 0.5
             },
             "pattern": {
              "fillmode": "overlay",
              "size": 10,
              "solidity": 0.2
             }
            },
            "type": "bar"
           }
          ],
          "barpolar": [
           {
            "marker": {
             "line": {
              "color": "white",
              "width": 0.5
             },
             "pattern": {
              "fillmode": "overlay",
              "size": 10,
              "solidity": 0.2
             }
            },
            "type": "barpolar"
           }
          ],
          "carpet": [
           {
            "aaxis": {
             "endlinecolor": "#2a3f5f",
             "gridcolor": "#C8D4E3",
             "linecolor": "#C8D4E3",
             "minorgridcolor": "#C8D4E3",
             "startlinecolor": "#2a3f5f"
            },
            "baxis": {
             "endlinecolor": "#2a3f5f",
             "gridcolor": "#C8D4E3",
             "linecolor": "#C8D4E3",
             "minorgridcolor": "#C8D4E3",
             "startlinecolor": "#2a3f5f"
            },
            "type": "carpet"
           }
          ],
          "choropleth": [
           {
            "colorbar": {
             "outlinewidth": 0,
             "ticks": ""
            },
            "type": "choropleth"
           }
          ],
          "contour": [
           {
            "colorbar": {
             "outlinewidth": 0,
             "ticks": ""
            },
            "colorscale": [
             [
              0,
              "#0d0887"
             ],
             [
              0.1111111111111111,
              "#46039f"
             ],
             [
              0.2222222222222222,
              "#7201a8"
             ],
             [
              0.3333333333333333,
              "#9c179e"
             ],
             [
              0.4444444444444444,
              "#bd3786"
             ],
             [
              0.5555555555555556,
              "#d8576b"
             ],
             [
              0.6666666666666666,
              "#ed7953"
             ],
             [
              0.7777777777777778,
              "#fb9f3a"
             ],
             [
              0.8888888888888888,
              "#fdca26"
             ],
             [
              1,
              "#f0f921"
             ]
            ],
            "type": "contour"
           }
          ],
          "contourcarpet": [
           {
            "colorbar": {
             "outlinewidth": 0,
             "ticks": ""
            },
            "type": "contourcarpet"
           }
          ],
          "heatmap": [
           {
            "colorbar": {
             "outlinewidth": 0,
             "ticks": ""
            },
            "colorscale": [
             [
              0,
              "#0d0887"
             ],
             [
              0.1111111111111111,
              "#46039f"
             ],
             [
              0.2222222222222222,
              "#7201a8"
             ],
             [
              0.3333333333333333,
              "#9c179e"
             ],
             [
              0.4444444444444444,
              "#bd3786"
             ],
             [
              0.5555555555555556,
              "#d8576b"
             ],
             [
              0.6666666666666666,
              "#ed7953"
             ],
             [
              0.7777777777777778,
              "#fb9f3a"
             ],
             [
              0.8888888888888888,
              "#fdca26"
             ],
             [
              1,
              "#f0f921"
             ]
            ],
            "type": "heatmap"
           }
          ],
          "histogram": [
           {
            "marker": {
             "pattern": {
              "fillmode": "overlay",
              "size": 10,
              "solidity": 0.2
             }
            },
            "type": "histogram"
           }
          ],
          "histogram2d": [
           {
            "colorbar": {
             "outlinewidth": 0,
             "ticks": ""
            },
            "colorscale": [
             [
              0,
              "#0d0887"
             ],
             [
              0.1111111111111111,
              "#46039f"
             ],
             [
              0.2222222222222222,
              "#7201a8"
             ],
             [
              0.3333333333333333,
              "#9c179e"
             ],
             [
              0.4444444444444444,
              "#bd3786"
             ],
             [
              0.5555555555555556,
              "#d8576b"
             ],
             [
              0.6666666666666666,
              "#ed7953"
             ],
             [
              0.7777777777777778,
              "#fb9f3a"
             ],
             [
              0.8888888888888888,
              "#fdca26"
             ],
             [
              1,
              "#f0f921"
             ]
            ],
            "type": "histogram2d"
           }
          ],
          "histogram2dcontour": [
           {
            "colorbar": {
             "outlinewidth": 0,
             "ticks": ""
            },
            "colorscale": [
             [
              0,
              "#0d0887"
             ],
             [
              0.1111111111111111,
              "#46039f"
             ],
             [
              0.2222222222222222,
              "#7201a8"
             ],
             [
              0.3333333333333333,
              "#9c179e"
             ],
             [
              0.4444444444444444,
              "#bd3786"
             ],
             [
              0.5555555555555556,
              "#d8576b"
             ],
             [
              0.6666666666666666,
              "#ed7953"
             ],
             [
              0.7777777777777778,
              "#fb9f3a"
             ],
             [
              0.8888888888888888,
              "#fdca26"
             ],
             [
              1,
              "#f0f921"
             ]
            ],
            "type": "histogram2dcontour"
           }
          ],
          "mesh3d": [
           {
            "colorbar": {
             "outlinewidth": 0,
             "ticks": ""
            },
            "type": "mesh3d"
           }
          ],
          "parcoords": [
           {
            "line": {
             "colorbar": {
              "outlinewidth": 0,
              "ticks": ""
             }
            },
            "type": "parcoords"
           }
          ],
          "pie": [
           {
            "automargin": true,
            "type": "pie"
           }
          ],
          "scatter": [
           {
            "fillpattern": {
             "fillmode": "overlay",
             "size": 10,
             "solidity": 0.2
            },
            "type": "scatter"
           }
          ],
          "scatter3d": [
           {
            "line": {
             "colorbar": {
              "outlinewidth": 0,
              "ticks": ""
             }
            },
            "marker": {
             "colorbar": {
              "outlinewidth": 0,
              "ticks": ""
             }
            },
            "type": "scatter3d"
           }
          ],
          "scattercarpet": [
           {
            "marker": {
             "colorbar": {
              "outlinewidth": 0,
              "ticks": ""
             }
            },
            "type": "scattercarpet"
           }
          ],
          "scattergeo": [
           {
            "marker": {
             "colorbar": {
              "outlinewidth": 0,
              "ticks": ""
             }
            },
            "type": "scattergeo"
           }
          ],
          "scattergl": [
           {
            "marker": {
             "colorbar": {
              "outlinewidth": 0,
              "ticks": ""
             }
            },
            "type": "scattergl"
           }
          ],
          "scattermap": [
           {
            "marker": {
             "colorbar": {
              "outlinewidth": 0,
              "ticks": ""
             }
            },
            "type": "scattermap"
           }
          ],
          "scattermapbox": [
           {
            "marker": {
             "colorbar": {
              "outlinewidth": 0,
              "ticks": ""
             }
            },
            "type": "scattermapbox"
           }
          ],
          "scatterpolar": [
           {
            "marker": {
             "colorbar": {
              "outlinewidth": 0,
              "ticks": ""
             }
            },
            "type": "scatterpolar"
           }
          ],
          "scatterpolargl": [
           {
            "marker": {
             "colorbar": {
              "outlinewidth": 0,
              "ticks": ""
             }
            },
            "type": "scatterpolargl"
           }
          ],
          "scatterternary": [
           {
            "marker": {
             "colorbar": {
              "outlinewidth": 0,
              "ticks": ""
             }
            },
            "type": "scatterternary"
           }
          ],
          "surface": [
           {
            "colorbar": {
             "outlinewidth": 0,
             "ticks": ""
            },
            "colorscale": [
             [
              0,
              "#0d0887"
             ],
             [
              0.1111111111111111,
              "#46039f"
             ],
             [
              0.2222222222222222,
              "#7201a8"
             ],
             [
              0.3333333333333333,
              "#9c179e"
             ],
             [
              0.4444444444444444,
              "#bd3786"
             ],
             [
              0.5555555555555556,
              "#d8576b"
             ],
             [
              0.6666666666666666,
              "#ed7953"
             ],
             [
              0.7777777777777778,
              "#fb9f3a"
             ],
             [
              0.8888888888888888,
              "#fdca26"
             ],
             [
              1,
              "#f0f921"
             ]
            ],
            "type": "surface"
           }
          ],
          "table": [
           {
            "cells": {
             "fill": {
              "color": "#EBF0F8"
             },
             "line": {
              "color": "white"
             }
            },
            "header": {
             "fill": {
              "color": "#C8D4E3"
             },
             "line": {
              "color": "white"
             }
            },
            "type": "table"
           }
          ]
         },
         "layout": {
          "annotationdefaults": {
           "arrowcolor": "#2a3f5f",
           "arrowhead": 0,
           "arrowwidth": 1
          },
          "autotypenumbers": "strict",
          "coloraxis": {
           "colorbar": {
            "outlinewidth": 0,
            "ticks": ""
           }
          },
          "colorscale": {
           "diverging": [
            [
             0,
             "#8e0152"
            ],
            [
             0.1,
             "#c51b7d"
            ],
            [
             0.2,
             "#de77ae"
            ],
            [
             0.3,
             "#f1b6da"
            ],
            [
             0.4,
             "#fde0ef"
            ],
            [
             0.5,
             "#f7f7f7"
            ],
            [
             0.6,
             "#e6f5d0"
            ],
            [
             0.7,
             "#b8e186"
            ],
            [
             0.8,
             "#7fbc41"
            ],
            [
             0.9,
             "#4d9221"
            ],
            [
             1,
             "#276419"
            ]
           ],
           "sequential": [
            [
             0,
             "#0d0887"
            ],
            [
             0.1111111111111111,
             "#46039f"
            ],
            [
             0.2222222222222222,
             "#7201a8"
            ],
            [
             0.3333333333333333,
             "#9c179e"
            ],
            [
             0.4444444444444444,
             "#bd3786"
            ],
            [
             0.5555555555555556,
             "#d8576b"
            ],
            [
             0.6666666666666666,
             "#ed7953"
            ],
            [
             0.7777777777777778,
             "#fb9f3a"
            ],
            [
             0.8888888888888888,
             "#fdca26"
            ],
            [
             1,
             "#f0f921"
            ]
           ],
           "sequentialminus": [
            [
             0,
             "#0d0887"
            ],
            [
             0.1111111111111111,
             "#46039f"
            ],
            [
             0.2222222222222222,
             "#7201a8"
            ],
            [
             0.3333333333333333,
             "#9c179e"
            ],
            [
             0.4444444444444444,
             "#bd3786"
            ],
            [
             0.5555555555555556,
             "#d8576b"
            ],
            [
             0.6666666666666666,
             "#ed7953"
            ],
            [
             0.7777777777777778,
             "#fb9f3a"
            ],
            [
             0.8888888888888888,
             "#fdca26"
            ],
            [
             1,
             "#f0f921"
            ]
           ]
          },
          "colorway": [
           "#636efa",
           "#EF553B",
           "#00cc96",
           "#ab63fa",
           "#FFA15A",
           "#19d3f3",
           "#FF6692",
           "#B6E880",
           "#FF97FF",
           "#FECB52"
          ],
          "font": {
           "color": "#2a3f5f"
          },
          "geo": {
           "bgcolor": "white",
           "lakecolor": "white",
           "landcolor": "white",
           "showlakes": true,
           "showland": true,
           "subunitcolor": "#C8D4E3"
          },
          "hoverlabel": {
           "align": "left"
          },
          "hovermode": "closest",
          "mapbox": {
           "style": "light"
          },
          "paper_bgcolor": "white",
          "plot_bgcolor": "white",
          "polar": {
           "angularaxis": {
            "gridcolor": "#EBF0F8",
            "linecolor": "#EBF0F8",
            "ticks": ""
           },
           "bgcolor": "white",
           "radialaxis": {
            "gridcolor": "#EBF0F8",
            "linecolor": "#EBF0F8",
            "ticks": ""
           }
          },
          "scene": {
           "xaxis": {
            "backgroundcolor": "white",
            "gridcolor": "#DFE8F3",
            "gridwidth": 2,
            "linecolor": "#EBF0F8",
            "showbackground": true,
            "ticks": "",
            "zerolinecolor": "#EBF0F8"
           },
           "yaxis": {
            "backgroundcolor": "white",
            "gridcolor": "#DFE8F3",
            "gridwidth": 2,
            "linecolor": "#EBF0F8",
            "showbackground": true,
            "ticks": "",
            "zerolinecolor": "#EBF0F8"
           },
           "zaxis": {
            "backgroundcolor": "white",
            "gridcolor": "#DFE8F3",
            "gridwidth": 2,
            "linecolor": "#EBF0F8",
            "showbackground": true,
            "ticks": "",
            "zerolinecolor": "#EBF0F8"
           }
          },
          "shapedefaults": {
           "line": {
            "color": "#2a3f5f"
           }
          },
          "ternary": {
           "aaxis": {
            "gridcolor": "#DFE8F3",
            "linecolor": "#A2B1C6",
            "ticks": ""
           },
           "baxis": {
            "gridcolor": "#DFE8F3",
            "linecolor": "#A2B1C6",
            "ticks": ""
           },
           "bgcolor": "white",
           "caxis": {
            "gridcolor": "#DFE8F3",
            "linecolor": "#A2B1C6",
            "ticks": ""
           }
          },
          "title": {
           "x": 0.05
          },
          "xaxis": {
           "automargin": true,
           "gridcolor": "#EBF0F8",
           "linecolor": "#EBF0F8",
           "ticks": "",
           "title": {
            "standoff": 15
           },
           "zerolinecolor": "#EBF0F8",
           "zerolinewidth": 2
          },
          "yaxis": {
           "automargin": true,
           "gridcolor": "#EBF0F8",
           "linecolor": "#EBF0F8",
           "ticks": "",
           "title": {
            "standoff": 15
           },
           "zerolinecolor": "#EBF0F8",
           "zerolinewidth": 2
          }
         }
        },
        "title": {
         "text": "<b>Daily Rhythm of the Dutch Railways</b><br>Average Passenger Check-ins by Hour",
         "x": 0.5
        },
        "xaxis": {
         "anchor": "y",
         "domain": [
          0,
          1
         ],
         "dtick": 1,
         "tickmode": "linear",
         "title": {
          "text": "hour"
         }
        },
        "yaxis": {
         "anchor": "x",
         "domain": [
          0,
          1
         ],
         "title": {
          "text": "Average Number of Check-ins (in millions)"
         }
        }
       }
      },
      "image/png": "[encoded data removed]"
     },
     "metadata": {},
     "output_type": "display_data"
    }
   ],
   "source": [
    "def process_checkin_data(file_path):\n",
    "    \"\"\"\n",
    "    Loads and processes the hourly check-in data.\n",
    "\n",
    "    Args:\n",
    "        file_path (str): The path to the check-in CSV file.\n",
    "\n",
    "    Returns:\n",
    "        pandas.DataFrame: A processed DataFrame of check-in data.\n",
    "    \"\"\"\n",
    "    if not os.path.exists(file_path):\n",
    "        print(f\"File not found: '{file_path}'. Please check the path.\")\n",
    "        return None\n",
    "    \n",
    "    checkin_df = pd.read_csv(file_path)\n",
    "    print(f\"Successfully loaded check-in data with {len(checkin_df):,} rows.\")\n",
    "\n",
    "    column_mapping = {\n",
    "        'Jaar': 'year',\n",
    "        'Maand': 'month',\n",
    "        'Dag': 'day',\n",
    "        'Uur': 'hour',\n",
    "        'Aantal_check_ins': 'check_ins',\n",
    "        'Referentie_pre_COVID_19': 'ref_pre_covid',\n",
    "        'Referentie_vorig_jaar': 'ref_previous_year',\n",
    "        'Delta_actueel_pre_COVID_19': 'delta_vs_precovid',\n",
    "        'Delta_actueel_vorig_jaar': 'delta_vs_previous_year'\n",
    "    }\n",
    "    checkin_df.rename(columns=column_mapping, inplace=True)\n",
    "\n",
    "    checkin_df['datetime'] = pd.to_datetime(checkin_df[['year', 'month', 'day', 'hour']])\n",
    "\n",
    "    for col in ['delta_vs_precovid', 'delta_vs_previous_year']:\n",
    "        checkin_df[col] = checkin_df[col].str.replace('%', '').astype(float) / 100.0\n",
    "\n",
    "    checkin_df.set_index('datetime', inplace=True)\n",
    "\n",
    "    return checkin_df\n",
    "\n",
    "checkin_file = 'TIL Programming\\Instappers_per_uur_export_tm_20221231.csv'\n",
    "checkin_data = process_checkin_data(checkin_file)\n",
    "\n",
    "if checkin_data is not None:\n",
    "    print(\"\\n--- Processed Check-in Data Info ---\")\n",
    "    checkin_data.info()\n",
    "    \n",
    "    print(\"\\n--- Sample of Processed Check-in Data ---\")\n",
    "    print(checkin_data.head())\n",
    "    \n",
    "    print(\"\\n--- Average Check-ins per Hour of the Day ---\")\n",
    "    avg_hourly_checkins = checkin_data.groupby('hour')['check_ins'].mean()\n",
    "    print(avg_hourly_checkins)\n",
    "    fig = px.bar(\n",
    "        avg_hourly_checkins,\n",
    "        x=avg_hourly_checkins.index,\n",
    "        y=avg_hourly_checkins.values,\n",
    "        labels={\n",
    "            \"x\": \"Hour of the Day\",\n",
    "            \"y\": \"Average Number of Check-ins (in millions)\"\n",
    "        },\n",
    "        title=\"<b>Daily Rhythm of the Dutch Railways</b><br>Average Passenger Check-ins by Hour\",\n",
    "        color=avg_hourly_checkins.values, # Color bars by their value\n",
    "        color_continuous_scale=px.colors.sequential.Blues,\n",
    "        text_auto='.2f' # Format text on bars to 2 decimal places\n",
    "    )\n",
    "\n",
    "    fig.update_layout(\n",
    "        xaxis = dict(tickmode = 'linear', dtick = 1), # Show a tick for every hour\n",
    "        font_family=\"Arial\",\n",
    "        title_x=0.5,\n",
    "        coloraxis_showscale=False # Hide the color scale bar\n",
    "    )\n",
    "    fig.update_traces(marker_line_color='rgb(8,48,107)', marker_line_width=1.5, opacity=0.8)\n",
    "    \n",
    "    fig.show()\n",
    "    "
   ]
  }
 ],
 "metadata": {
  "kernelspec": {
   "display_name": "Python 3 (ipykernel)",
   "language": "python",
   "name": "python3"
  },
  "language_info": {
   "codemirror_mode": {
    "name": "ipython",
    "version": 3
   },
   "file_extension": ".py",
   "mimetype": "text/x-python",
   "name": "python",
   "nbconvert_exporter": "python",
   "pygments_lexer": "ipython3",
   "version": "3.11.0rc2"
  }
 },
 "nbformat": 4,
 "nbformat_minor": 5
}
