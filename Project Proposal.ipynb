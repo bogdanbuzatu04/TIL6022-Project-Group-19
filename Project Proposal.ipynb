{
 "cells": [
  {
   "cell_type": "markdown",
   "id": "e3c5795e",
   "metadata": {},
   "source": [
    "**TIL Python Programming Project Proposal**"
   ]
  },
  {
   "cell_type": "markdown",
   "id": "27e9c596",
   "metadata": {},
   "source": [
    "1. Overview\n",
    "The Dutch rail network experiences frequent service disruptions with detailed archival data available since 2011 [1], enabling a rigorous, time-of-day analysis across lines, causes and durations. Peak periods are operationally well defined by the national operator’s off peak windows and are known to concentrate a large share of daily passenger flows – thus making them a critical point for reliability analysis and passenger impact assessment."
   ]
  },
  {
   "cell_type": "markdown",
   "id": "50027830",
   "metadata": {},
   "source": [
    "2. Objectives\n",
    "> Quantify whether disruption frequency and duration and higher during peak hours compared to off-peak, controlling for calendar events and planned works. \n",
    "> Identify routes and corridors where peak-hour vulnerability is most acute, with emphasis on high-throughput hubs such as Amsterdam Centraal, Utrecht Centraal, Rotterdam Centraal and Den Haag Centraal [2]. \n",
    "> Characterize whether disruption causes differ by time-of-day and assess their peak-hour severity profiles. \n",
    "> Forecast disruption counts per hour for increased passenger flow in the future based on realistic data on expected NS users and forecasting models widely used in academia. .\n"
   ]
  },
  {
   "cell_type": "markdown",
   "id": "044c49f7",
   "metadata": {},
   "source": [
    "3. Research Questions\n",
    "> RQ1: Are disruption counts per hour significantly higher during peak hours than off-peak hours – after adjusting for weekdays, weekends, months and planned work indicators?\n",
    "> RQ2: Can disruption counts be forecasted accurately to improve predictions over calendar-only baselines?\n",
    "> RQ3: Do disruptions during peak hours last longer or affect more lines than off-peak disruptions, based upon the distribution of durations and multi-line impacts in historical data?\n",
    "> RQ4: How do planned works and major projects affect disruption risk during peak hours and alternative-route congestion patterns?\n",
    "> RQ5: Which lines show the strongest peak-hour susceptibility?\n",
    "> RQ6: What peak management or scheduling insights from prior studies could mitigate peak-hour vulnerability without major infrastructure expansion?\n"
   ]
  },
  {
   "cell_type": "markdown",
   "id": "04becf6c",
   "metadata": {},
   "source": [
    "4. Methodology\n",
    "The first step of the methodology is to define the cohort, as in building a multi-year panel of disruptions with event timestamps mapped to hourly bins and labeled as peak or off-peak using NS definitions and weekday/ holiday rules. Furthermore, it is deemed necessary to join disruptions to planned work flags and project windows to isolate outside impacts versus background reliability. Indicators will be created for cause categories, affected routes, multi-line impact and duration quantiles – accounting for duplication notes when a single event affects multiple lines. Peak hour effects are estimated using statistical modelling for hourly counts with controls for days of the week, months, planned works and hub indicators. Corridors frequently present in disruption rankings and high throughput hubs are prioritized (spatial focus). Combining the above, the visualization part of the report includes heatmaps and scatter plots to showcase the relationship between peak hours and NS train disruptions. \n"
   ]
  },
  {
   "cell_type": "markdown",
   "id": "a2dbcaa2",
   "metadata": {},
   "source": [
    "5. Data sets\n",
    "\n",
    "Data about OVChipkaarts checkins and checkout: https://translink.nl/open-data/\n",
    "Open data about train services: https://www.rijdendetreinen.nl/en/open-data/train-archive#:~:text=Related%20data-,Description%20of%20the%20data,website%20of%20Rijden%20de%20Treinen\n",
    "Train disruptions: https://www.rijdendetreinen.nl/en/open-data/disruptions"
   ]
  },
  {
   "cell_type": "markdown",
   "id": "8ff61a2b",
   "metadata": {},
   "source": [
    "**References**\n",
    "[1]\t‘Statistics’. Accessed: Oct. 02, 2025. [Online]. Available: https://www.rijdendetreinen.nl/en/statistics\n",
    "[2]\t‘List of Busiest Railway Stations in the Netherlands. List of the busiest railway stations in the Netherlands ranked by total boardings, a lightings, and transfers. 1 Utrecht Centraal 64.3 16 Utrecht Utrecht. 2 Amsterdam Centraal 59.1 11 Amsterdam North Ho - www.Rail-Pass.com’. Accessed: Oct. 02, 2025. [Online]. Available: https://www.rail-pass.com/list-of-busiest-railway-stations-in-the-netherlands"
   ]
  }
 ],
 "metadata": {
  "language_info": {
   "name": "python"
  }
 },
 "nbformat": 4,
 "nbformat_minor": 5
}
